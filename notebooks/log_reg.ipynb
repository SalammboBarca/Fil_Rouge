{
 "cells": [
  {
   "cell_type": "code",
   "execution_count": 2,
   "metadata": {},
   "outputs": [
    {
     "name": "stdout",
     "output_type": "stream",
     "text": [
      "(153164, 2)\n",
      "0    00001cee341fdb12\n",
      "1    0000247867823ef7\n",
      "2    00013b17ad220c46\n",
      "3    00017563c3f7919a\n",
      "4    00017695ad8997eb\n",
      "Name: id, dtype: object\n",
      "(153164, 7)\n",
      "0    00001cee341fdb12\n",
      "1    0000247867823ef7\n",
      "2    00013b17ad220c46\n",
      "3    00017563c3f7919a\n",
      "4    00017695ad8997eb\n",
      "Name: id, dtype: object\n"
     ]
    }
   ],
   "source": [
    "import configparser\n",
    "import pandas as pd\n",
    "import re\n",
    "# import and instantiate TfidfVectorizer\n",
    "from sklearn.feature_extraction.text import CountVectorizer\n",
    "from sklearn.feature_extraction.text import TfidfVectorizer\n",
    "# import and instantiate the Logistic Regression model\n",
    "from sklearn.linear_model import LogisticRegression\n",
    "from sklearn.metrics import accuracy_score\n",
    "\n",
    "config = configparser.ConfigParser()\n",
    "config.read('../config.cfg')\n",
    "train_df = pd.read_csv(config['FILES']['TRAIN'])\n",
    "test_df = pd.read_csv(config['FILES']['TEST'])\n",
    "print(test_df.shape)\n",
    "print(test_df['id'][0:5])\n",
    "\n",
    "test_label = pd.read_csv(config['FILES']['LABEL'])\n",
    "print(test_label.shape)\n",
    "print(test_label['id'][0:5])\n",
    "\n",
    "cols_name = ['obscene', 'insult', 'toxic', 'severe_toxic', 'identity_hate', 'threat']\n",
    "\n",
    "\n",
    "\n"
   ]
  },
  {
   "cell_type": "code",
   "execution_count": 3,
   "metadata": {},
   "outputs": [
    {
     "name": "stdout",
     "output_type": "stream",
     "text": [
      "(159571,) (153164,)\n"
     ]
    }
   ],
   "source": [
    "def clean_text(text):\n",
    "    text = text.lower()\n",
    "    for change in [(r\"what's\", \"what is \"), (r\"\\'s\", \" \"), (r\"\\'ve\", \" have \"), (r\"can't\", \"cannot \"), \n",
    "                   (r\"n't\", \" not \"), (r\"i'm\", \"i am \"), (r\"\\'re\", \" are \"), (r\"\\'d\", \" would \"), (r\"\\'ll\", \" will \"), (r\"\\'scuse\", \" excuse \")]:\n",
    "        text = re.sub(change[0], change[1], text)\n",
    "    text = text.strip(' ')\n",
    "    return text\n",
    "\n",
    "\n",
    "train_df['comment_text'] = train_df['comment_text'].map(lambda com: clean_text(com))\n",
    "test_df['comment_text'] = test_df['comment_text'].map(lambda com: clean_text(com))\n",
    "\n",
    "x_train = train_df.comment_text\n",
    "x_test = test_df.comment_text\n",
    "print(x_train.shape, x_test.shape)\n",
    "\n",
    "# vect = TfidfVectorizer(max_df=60000, min_df=2, stop_words='english')\n",
    "vect = TfidfVectorizer(max_features=5000, stop_words='english')\n",
    "# learn the vocabulary in the training data, then use it to create a document-term matrix\n",
    "x_train_tfid = vect.fit_transform(x_train)\n",
    "# transform the test data using the earlier fitted vocabulary, into a document-term matrix\n",
    "x_test_tfid = vect.transform(x_test)\n",
    "\n"
   ]
  },
  {
   "cell_type": "code",
   "execution_count": 8,
   "metadata": {},
   "outputs": [
    {
     "name": "stdout",
     "output_type": "stream",
     "text": [
      "... Processing obscene\n",
      "Training accuracy is 0.9832300355327722\n",
      "Test accuracy is 0.9632998843352403\n",
      "... Processing insult\n",
      "Training accuracy is 0.9755469352200588\n",
      "Test accuracy is 0.9620338241270436\n",
      "... Processing toxic\n",
      "Training accuracy is 0.9639846839337975\n",
      "Test accuracy is 0.9243021038481978\n",
      "... Processing severe_toxic\n",
      "Training accuracy is 0.9920787611784097\n",
      "Test accuracy is 0.9924192691237613\n",
      "... Processing identity_hate\n",
      "Training accuracy is 0.9939713356436947\n",
      "Test accuracy is 0.9903716902685298\n",
      "... Processing threat\n",
      "Training accuracy is 0.9981199591404453\n",
      "Test accuracy is 0.9959204726624777\n"
     ]
    }
   ],
   "source": [
    "logreg = LogisticRegression(C=12.0)\n",
    "\n",
    "# create submission file\n",
    "submission_binary = pd.DataFrame(index=test_df['id'], columns=cols_name)\n",
    "test_label_strip = test_label[test_label.toxic != -1]\n",
    "\n",
    "for label in cols_name:\n",
    "    print('... Processing {}'.format(label))\n",
    "    y = train_df[label]\n",
    "    yt = test_label_strip[label]\n",
    "    # train the model using X_dtm & y\n",
    "    logreg.fit(x_train_tfid, y)\n",
    "    # compute the training accuracy\n",
    "    y_pred_X = logreg.predict(x_train_tfid)\n",
    "    y_pred_t = logreg.predict(x_test_tfid)\n",
    "    print('Training accuracy is {}'.format(accuracy_score(y, y_pred_X)))\n",
    "    # compute the predicted probabilities for X_test_dtm\n",
    "    test_y_prob = logreg.predict_proba(x_test_tfid)[:, 1]\n",
    "    submission_binary[label] = test_y_prob\n",
    "    print('Test accuracy is {}'.format(accuracy_score(yt, y_pred_t[test_label_strip.index])))\n"
   ]
  },
  {
   "cell_type": "code",
   "execution_count": null,
   "metadata": {},
   "outputs": [],
   "source": []
  }
 ],
 "metadata": {
  "kernelspec": {
   "display_name": "Python 3",
   "language": "python",
   "name": "python3"
  },
  "language_info": {
   "codemirror_mode": {
    "name": "ipython",
    "version": 3
   },
   "file_extension": ".py",
   "mimetype": "text/x-python",
   "name": "python",
   "nbconvert_exporter": "python",
   "pygments_lexer": "ipython3",
   "version": "3.6.7"
  }
 },
 "nbformat": 4,
 "nbformat_minor": 1
}
