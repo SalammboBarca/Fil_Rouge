{
 "cells": [
  {
   "cell_type": "code",
   "execution_count": 4,
   "metadata": {},
   "outputs": [],
   "source": [
    "import configparser\n",
    "import re\n",
    "import csv\n",
    "import numpy as np\n",
    "from gensim.models import FastText\n",
    "from gensim.test.utils import get_tmpfile"
   ]
  },
  {
   "cell_type": "code",
   "execution_count": 8,
   "metadata": {},
   "outputs": [],
   "source": [
    "config = configparser.ConfigParser()\n",
    "config.read('../config.cfg')\n",
    "train_df = csv.reader(open(config['FILES']['TRAIN'],'r'))\n",
    "test_df = csv.reader(open(config['FILES']['TEST'], 'r'))\n",
    "def save_csv(df):\n",
    "    data = []\n",
    "    for comment in df:\n",
    "        data.append(comment)\n",
    "    return data\n",
    "train_df = save_csv(train_df)\n",
    "test_df = save_csv(test_df)\n",
    "def my_sentences(df):\n",
    "    sentences = dict()\n",
    "    for comment in df:\n",
    "        if comment[0]!= 'id':\n",
    "            sentences[comment[0]] = re.split('\\s|\\n|\\.',comment[1])\n",
    "    return sentences\n",
    "sentences = my_sentences(train_df)\n"
   ]
  },
  {
   "cell_type": "code",
   "execution_count": 9,
   "metadata": {},
   "outputs": [],
   "source": [
    "model = FastText(size=4, window=3, min_count=1, sentences=sentences.values(), iter=10)"
   ]
  },
  {
   "cell_type": "code",
   "execution_count": null,
   "metadata": {},
   "outputs": [],
   "source": [
    "fname = get_tmpfile(\"fasttext.model\")\n",
    "model.save(fname)\n",
    "model = FastText.load(fname)"
   ]
  },
  {
   "cell_type": "markdown",
   "metadata": {},
   "source": [
    "https://radimrehurek.com/gensim/models/fasttext.html\n",
    "https://github.com/RaRe-Technologies/gensim/blob/develop/docs/notebooks/FastText_Tutorial.ipynb\n"
   ]
  },
  {
   "cell_type": "code",
   "execution_count": 10,
   "metadata": {},
   "outputs": [
    {
     "data": {
      "text/plain": [
       "[('sorry!!', 0.9995671510696411),\n",
       " ('hoy!', 0.9990109801292419),\n",
       " ('sorry!', 0.9989923238754272),\n",
       " ('go!', 0.9989594221115112),\n",
       " ('douche!', 0.9987983703613281),\n",
       " ('up?', 0.9986859560012817),\n",
       " ('dickwad?', 0.9986128807067871),\n",
       " ('hahahahahahahahahahahaha!!!!', 0.9985053539276123),\n",
       " ('me?!!', 0.998361349105835),\n",
       " ('hahahahahahahahahahahahahahaha!!!!', 0.9982222318649292)]"
      ]
     },
     "execution_count": 10,
     "metadata": {},
     "output_type": "execute_result"
    }
   ],
   "source": [
    "word_vectors = model.wv\n",
    "word_vectors.most_similar('fuck')"
   ]
  },
  {
   "cell_type": "code",
   "execution_count": 16,
   "metadata": {},
   "outputs": [
    {
     "data": {
      "text/plain": [
       "3.310984217695236"
      ]
     },
     "execution_count": 16,
     "metadata": {},
     "output_type": "execute_result"
    }
   ],
   "source": [
    "# Word Movers distance\n",
    "sentence_obama = 'Obama speaks to the media in Illinois'.lower().split()\n",
    "sentence_president = 'The president greets the press in Chicago'.lower().split()\n",
    "\n",
    "# Remove their stopwords.\n",
    "from nltk.corpus import stopwords\n",
    "stopwords = stopwords.words('english')\n",
    "sentence_obama = [w for w in sentence_obama if w not in stopwords]\n",
    "sentence_president = [w for w in sentence_president if w not in stopwords]\n",
    "\n",
    "# Compute WMD.\n",
    "distance = word_vectors.wmdistance(sentence_obama, sentence_president)\n",
    "distance"
   ]
  },
  {
   "cell_type": "code",
   "execution_count": null,
   "metadata": {},
   "outputs": [],
   "source": []
  }
 ],
 "metadata": {
  "kernelspec": {
   "display_name": "Python 3",
   "language": "python",
   "name": "python3"
  },
  "language_info": {
   "codemirror_mode": {
    "name": "ipython",
    "version": 3
   },
   "file_extension": ".py",
   "mimetype": "text/x-python",
   "name": "python",
   "nbconvert_exporter": "python",
   "pygments_lexer": "ipython3",
   "version": "3.6.7"
  }
 },
 "nbformat": 4,
 "nbformat_minor": 1
}
